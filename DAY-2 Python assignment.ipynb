{
 "cells": [
  {
   "cell_type": "markdown",
   "id": "b698deb4",
   "metadata": {},
   "source": [
    "## 1. The keyword which helps in writing code involving conditions"
   ]
  },
  {
   "cell_type": "markdown",
   "id": "e127ac2a",
   "metadata": {},
   "source": [
    "# IF, ELIF, and ELSE are the keywords helps in writing code involving conditions"
   ]
  },
  {
   "cell_type": "markdown",
   "id": "89fa2f1c",
   "metadata": {},
   "source": [
    "# 2. Syantax of simple if statement"
   ]
  },
  {
   "cell_type": "markdown",
   "id": "b23764b3",
   "metadata": {},
   "source": [
    "# The statements inside the body of “if” only execute if the given condition returns true. If the condition returns false then the statements inside “if” are skipped."
   ]
  },
  {
   "cell_type": "markdown",
   "id": "bc406e31",
   "metadata": {},
   "source": [
    "## 3. Python program to check whether a person is eligible for voting or not. (accept age from user)"
   ]
  },
  {
   "cell_type": "code",
   "execution_count": 1,
   "id": "0eb74d30",
   "metadata": {},
   "outputs": [
    {
     "name": "stdout",
     "output_type": "stream",
     "text": [
      "Enter your age:20\n",
      "you are Eligible for voting\n"
     ]
    }
   ],
   "source": [
    "age= int(input('Enter your age:'))\n",
    "if age >=18:\n",
    "    print(\"you are Eligible for voting\")\n",
    "else:\n",
    "    print(\"Not eligible for voting\")"
   ]
  },
  {
   "cell_type": "markdown",
   "id": "74d4a6f0",
   "metadata": {},
   "source": [
    "## 4.Output of the given below program"
   ]
  },
  {
   "cell_type": "code",
   "execution_count": 2,
   "id": "d58b3789",
   "metadata": {},
   "outputs": [
    {
     "name": "stdout",
     "output_type": "stream",
     "text": [
      "Know Program\n"
     ]
    }
   ],
   "source": [
    "if 1 + 3 == 7:\n",
    "    print(\"Hello\")\n",
    "else:\n",
    "    print(\"Know Program\")"
   ]
  },
  {
   "cell_type": "markdown",
   "id": "8f0e3492",
   "metadata": {},
   "source": [
    "## 5.Python program to check whether a number entered by user is even or odd"
   ]
  },
  {
   "cell_type": "code",
   "execution_count": 3,
   "id": "ffecfb10",
   "metadata": {},
   "outputs": [
    {
     "name": "stdout",
     "output_type": "stream",
     "text": [
      "Enter a number:2\n",
      "2 is Even\n"
     ]
    }
   ],
   "source": [
    "num = int(input(\"Enter a number:\"))\n",
    "if (num % 2) == 0:\n",
    "   print(\"{0} is Even\".format(num))\n",
    "else:\n",
    "   print(\"{0} is Odd\".format(num))"
   ]
  },
  {
   "cell_type": "markdown",
   "id": "5ecb44dd",
   "metadata": {},
   "source": [
    "## 6.Python program to find the largest element among three Numbers"
   ]
  },
  {
   "cell_type": "code",
   "execution_count": 4,
   "id": "69165d35",
   "metadata": {},
   "outputs": [
    {
     "name": "stdout",
     "output_type": "stream",
     "text": [
      "The largest number is 50\n"
     ]
    }
   ],
   "source": [
    "num1 = 10 \n",
    "num2 = 50 \n",
    "num3 = 15\n",
    "if (num1 >= num2) and (num1 >= num3):\n",
    "   largest = num1\n",
    "elif (num2 >= num1) and (num2 >= num3):\n",
    "   largest = num2\n",
    "else:\n",
    "   largest = num3\n",
    "\n",
    "print(\"The largest number is\", largest)"
   ]
  },
  {
   "cell_type": "markdown",
   "id": "e0c4dd31",
   "metadata": {},
   "source": [
    "## 7.Python program to accept a number from 1 to 12 and display name of the month and days in that month"
   ]
  },
  {
   "cell_type": "code",
   "execution_count": 5,
   "id": "4249b2cc",
   "metadata": {},
   "outputs": [
    {
     "name": "stdout",
     "output_type": "stream",
     "text": [
      "Enter the Month:4\n",
      "Enter the Year:2020\n",
      "Name of the month: April\n",
      "Number of days is 29\n"
     ]
    }
   ],
   "source": [
    "Month = int(input('Enter the Month:'))\n",
    "Year = int(input('Enter the Year:'))\n",
    "\n",
    "if(Month ==1):\n",
    "    print('Name of the month: January')\n",
    "if(Month ==2):\n",
    "    print('Name of the month: February')\n",
    "if(Month ==3):\n",
    "    print('Name of the month: March')\n",
    "if(Month ==4):\n",
    "    print('Name of the month: April')\n",
    "if(Month ==5):\n",
    "    print('Name of the month: May')\n",
    "if(Month ==6):\n",
    "    print('Name of the month: June')\n",
    "if(Month ==7):\n",
    "    print('Name of the month: July')\n",
    "if(Month ==8):\n",
    "    print('Name of the month: August')\n",
    "if(Month ==9):\n",
    "    print('Name of the month: September')\n",
    "if(Month ==10):\n",
    "    print('Name of the month: October')\n",
    "if(Month ==11):\n",
    "    print('Name of the month: November')\n",
    "if(Month ==12):\n",
    "    print('Name of the month: December')\n",
    "    \n",
    "if(Month == 2 and (Year%400 == 0) or ((Year%100 != 0) and (Year%4 == 0))):\n",
    "    print('Number of days is 29')\n",
    "elif(Month == 2):\n",
    "    print('Number of days is 28')\n",
    "elif(Month == 1 or Month == 3 or Month == 5 or Month == 7 or Month == 8 or Month == 10 or Month == 12):\n",
    "    print('Number of days is 31')\n",
    "else:\n",
    "    print('Number of days is 30')"
   ]
  }
 ],
 "metadata": {
  "kernelspec": {
   "display_name": "Python 3 (ipykernel)",
   "language": "python",
   "name": "python3"
  },
  "language_info": {
   "codemirror_mode": {
    "name": "ipython",
    "version": 3
   },
   "file_extension": ".py",
   "mimetype": "text/x-python",
   "name": "python",
   "nbconvert_exporter": "python",
   "pygments_lexer": "ipython3",
   "version": "3.9.10"
  }
 },
 "nbformat": 4,
 "nbformat_minor": 5
}
