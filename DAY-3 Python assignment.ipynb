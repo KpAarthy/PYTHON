{
 "cells": [
  {
   "cell_type": "markdown",
   "id": "8dbcdcbe",
   "metadata": {},
   "source": [
    "# 1,2.Find the data type of a if a=9"
   ]
  },
  {
   "cell_type": "code",
   "execution_count": 1,
   "id": "beaa5350",
   "metadata": {},
   "outputs": [
    {
     "data": {
      "text/plain": [
       "int"
      ]
     },
     "execution_count": 1,
     "metadata": {},
     "output_type": "execute_result"
    }
   ],
   "source": [
    "a=9\n",
    "type(a)"
   ]
  },
  {
   "cell_type": "markdown",
   "id": "26cc2fba",
   "metadata": {},
   "source": [
    "# 3.Find the data type of a if a='9.'"
   ]
  },
  {
   "cell_type": "code",
   "execution_count": 2,
   "id": "ec927f17",
   "metadata": {},
   "outputs": [
    {
     "data": {
      "text/plain": [
       "float"
      ]
     },
     "execution_count": 2,
     "metadata": {},
     "output_type": "execute_result"
    }
   ],
   "source": [
    "a=9.\n",
    "type(a)"
   ]
  },
  {
   "cell_type": "markdown",
   "id": "5fa97263",
   "metadata": {},
   "source": [
    "# 4.Find the data type of a if a=(9)"
   ]
  },
  {
   "cell_type": "code",
   "execution_count": 3,
   "id": "68452e3f",
   "metadata": {},
   "outputs": [
    {
     "data": {
      "text/plain": [
       "int"
      ]
     },
     "execution_count": 3,
     "metadata": {},
     "output_type": "execute_result"
    }
   ],
   "source": [
    "a=(9)\n",
    "type(a)"
   ]
  },
  {
   "cell_type": "markdown",
   "id": "195a2219",
   "metadata": {},
   "source": [
    "# 5.Find the data type of a if a=False"
   ]
  },
  {
   "cell_type": "code",
   "execution_count": 5,
   "id": "3c3e8325",
   "metadata": {},
   "outputs": [
    {
     "data": {
      "text/plain": [
       "bool"
      ]
     },
     "execution_count": 5,
     "metadata": {},
     "output_type": "execute_result"
    }
   ],
   "source": [
    "a=False\n",
    "type(a)"
   ]
  },
  {
   "cell_type": "markdown",
   "id": "1fbbe82b",
   "metadata": {},
   "source": [
    "# 6.Find the data type of a if a=[1,2,3]"
   ]
  },
  {
   "cell_type": "code",
   "execution_count": 7,
   "id": "a1f6a36f",
   "metadata": {},
   "outputs": [
    {
     "data": {
      "text/plain": [
       "list"
      ]
     },
     "execution_count": 7,
     "metadata": {},
     "output_type": "execute_result"
    }
   ],
   "source": [
    "a=[1,2,3]\n",
    "type(a)"
   ]
  },
  {
   "cell_type": "markdown",
   "id": "0fa17ea0",
   "metadata": {},
   "source": [
    "# 7.Find the data type of a if a=(1,2,3)"
   ]
  },
  {
   "cell_type": "code",
   "execution_count": 8,
   "id": "86d4a154",
   "metadata": {},
   "outputs": [
    {
     "data": {
      "text/plain": [
       "tuple"
      ]
     },
     "execution_count": 8,
     "metadata": {},
     "output_type": "execute_result"
    }
   ],
   "source": [
    "a=(1,2,3)\n",
    "type(a)"
   ]
  },
  {
   "cell_type": "markdown",
   "id": "f281470d",
   "metadata": {},
   "source": [
    "# 8.Find the data type of a if a={'key': 9}"
   ]
  },
  {
   "cell_type": "code",
   "execution_count": 9,
   "id": "f9fbee73",
   "metadata": {},
   "outputs": [
    {
     "data": {
      "text/plain": [
       "dict"
      ]
     },
     "execution_count": 9,
     "metadata": {},
     "output_type": "execute_result"
    }
   ],
   "source": [
    "a={'key':9}\n",
    "type(a)"
   ]
  },
  {
   "cell_type": "markdown",
   "id": "2d90ec02",
   "metadata": {},
   "source": [
    "# 9.Find the data type of a if a=1 + 9j"
   ]
  },
  {
   "cell_type": "code",
   "execution_count": 10,
   "id": "d9cb2279",
   "metadata": {},
   "outputs": [
    {
     "data": {
      "text/plain": [
       "complex"
      ]
     },
     "execution_count": 10,
     "metadata": {},
     "output_type": "execute_result"
    }
   ],
   "source": [
    "a=1 + 9j\n",
    "type(a)"
   ]
  },
  {
   "cell_type": "markdown",
   "id": "1f1e7579",
   "metadata": {},
   "source": [
    "# 10.Set a=1 and b=2. What data type is a/b"
   ]
  },
  {
   "cell_type": "code",
   "execution_count": 11,
   "id": "12405ab7",
   "metadata": {},
   "outputs": [
    {
     "data": {
      "text/plain": [
       "float"
      ]
     },
     "execution_count": 11,
     "metadata": {},
     "output_type": "execute_result"
    }
   ],
   "source": [
    "a=1\n",
    "b=2\n",
    "c=a/b\n",
    "type(c)"
   ]
  },
  {
   "cell_type": "markdown",
   "id": "36d9d48e",
   "metadata": {},
   "source": [
    "# 11.Create a dictionary numbers = {'one':1, 'two':2, 'three':3}. Pull out the number '2' by calling the key 'two'"
   ]
  },
  {
   "cell_type": "code",
   "execution_count": 15,
   "id": "e8303c49",
   "metadata": {},
   "outputs": [
    {
     "data": {
      "text/plain": [
       "2"
      ]
     },
     "execution_count": 15,
     "metadata": {},
     "output_type": "execute_result"
    }
   ],
   "source": [
    "a= {'one':1, 'two':2, 'three':3}\n",
    "a['two']"
   ]
  },
  {
   "cell_type": "markdown",
   "id": "ea8cb9d5",
   "metadata": {},
   "source": [
    "# 12.Create a tuple with the numbers 8, 9, and 10?"
   ]
  },
  {
   "cell_type": "code",
   "execution_count": 13,
   "id": "7dce80d7",
   "metadata": {
    "scrolled": true
   },
   "outputs": [
    {
     "data": {
      "text/plain": [
       "tuple"
      ]
     },
     "execution_count": 13,
     "metadata": {},
     "output_type": "execute_result"
    }
   ],
   "source": [
    "a=(8,9,10)\n",
    "type(a)"
   ]
  },
  {
   "cell_type": "markdown",
   "id": "c7c1c016",
   "metadata": {},
   "source": [
    "# 13.Run the following lines of code and explain the error in your own words. Then rewrite the lines of code to run error free:"
   ]
  },
  {
   "cell_type": "code",
   "execution_count": 18,
   "id": "14713306",
   "metadata": {},
   "outputs": [
    {
     "data": {
      "text/plain": [
       "1"
      ]
     },
     "execution_count": 18,
     "metadata": {},
     "output_type": "execute_result"
    }
   ],
   "source": [
    "d = {'one':1, 'two':2, 'three':3}\n",
    "d['one']\n",
    "##here occurred error was NAMEERROR,which is gained by not mentioning the colens in the dict so that it can't find the given"
   ]
  },
  {
   "cell_type": "markdown",
   "id": "6b20dec9",
   "metadata": {},
   "source": [
    "# 14.Run the following lines of code and explain the error in your own words. Then rewrite the lines of code to run error free:"
   ]
  },
  {
   "cell_type": "code",
   "execution_count": 20,
   "id": "69544b86",
   "metadata": {},
   "outputs": [
    {
     "data": {
      "text/plain": [
       "True"
      ]
     },
     "execution_count": 20,
     "metadata": {},
     "output_type": "execute_result"
    }
   ],
   "source": [
    "f = False \n",
    "not f\n",
    "##here occurred error was SYNTAXERROR,"
   ]
  },
  {
   "cell_type": "markdown",
   "id": "4780360f",
   "metadata": {},
   "source": [
    "# 15.Run the following lines of code and explain the error in your own words. Then rewrite the lines of code to run error free:"
   ]
  },
  {
   "cell_type": "code",
   "execution_count": 21,
   "id": "a2ab9482",
   "metadata": {},
   "outputs": [
    {
     "data": {
      "text/plain": [
       "5"
      ]
     },
     "execution_count": 21,
     "metadata": {},
     "output_type": "execute_result"
    }
   ],
   "source": [
    "lst = [1,3,5] \n",
    "lst[2]\n",
    "##here occurred error was INDEXERROR,the list has 3 values with the index of 0,1,2.so here the last index value is 2"
   ]
  }
 ],
 "metadata": {
  "kernelspec": {
   "display_name": "Python 3 (ipykernel)",
   "language": "python",
   "name": "python3"
  },
  "language_info": {
   "codemirror_mode": {
    "name": "ipython",
    "version": 3
   },
   "file_extension": ".py",
   "mimetype": "text/x-python",
   "name": "python",
   "nbconvert_exporter": "python",
   "pygments_lexer": "ipython3",
   "version": "3.9.10"
  }
 },
 "nbformat": 4,
 "nbformat_minor": 5
}
